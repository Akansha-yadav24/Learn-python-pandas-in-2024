{
 "cells": [
  {
   "cell_type": "code",
   "execution_count": 1,
   "metadata": {},
   "outputs": [],
   "source": [
    "import pandas as pd\n",
    "\n",
    "# Read the CSV file into a DataFrame\n",
    "df = pd.read_csv(r'C:\\Users\\yadav\\OneDrive\\Desktop\\PANDAS-LONG-YT\\nba.csv')"
   ]
  },
  {
   "cell_type": "code",
   "execution_count": 3,
   "metadata": {},
   "outputs": [
    {
     "name": "stdout",
     "output_type": "stream",
     "text": [
      "9. sample():\n",
      "                 Name                    Team  Number Position   Age Height   \n",
      "435    Meyers Leonard  Portland Trail Blazers    11.0       PF  24.0    7-1  \\\n",
      "52        Carl Landry      Philadelphia 76ers     7.0       PF  32.0    6-9   \n",
      "19       Jarrett Jack           Brooklyn Nets     2.0       PG  32.0    6-3   \n",
      "24   Chris McCullough           Brooklyn Nets     1.0       PF  21.0   6-11   \n",
      "105       C.J. Wilcox    Los Angeles Clippers    30.0       SG  25.0    6-5   \n",
      "\n",
      "     Weight       College     Salary  \n",
      "435   245.0      Illinois  3075880.0  \n",
      "52    248.0        Purdue  6500000.0  \n",
      "19    200.0  Georgia Tech  6300000.0  \n",
      "24    200.0      Syracuse  1140240.0  \n",
      "105   195.0    Washington  1159680.0  \n"
     ]
    }
   ],
   "source": [
    "# 9. sample(): Display a random sample of the DataFrame\n",
    "print(\"9. sample():\")\n",
    "print(df.sample(n=5))  # Displaying a random sample of 5 rows"
   ]
  },
  {
   "cell_type": "code",
   "execution_count": 4,
   "metadata": {},
   "outputs": [
    {
     "name": "stdout",
     "output_type": "stream",
     "text": [
      "\n",
      "10. nunique():\n",
      "Name        457\n",
      "Team         30\n",
      "Number       53\n",
      "Position      5\n",
      "Age          22\n",
      "Height       18\n",
      "Weight       87\n",
      "College     118\n",
      "Salary      309\n",
      "dtype: int64\n"
     ]
    }
   ],
   "source": [
    "# 10. nunique(): Count the number of unique values in each column\n",
    "print(\"\\n10. nunique():\")\n",
    "print(df.nunique())"
   ]
  },
  {
   "cell_type": "code",
   "execution_count": 6,
   "metadata": {},
   "outputs": [
    {
     "name": "stdout",
     "output_type": "stream",
     "text": [
      "\n",
      "11. unique():\n",
      "['PG' 'SF' 'SG' 'PF' 'C' nan]\n"
     ]
    }
   ],
   "source": [
    "# 11. unique(): Display unique values in a specific column\n",
    "print(\"\\n11. unique():\")\n",
    "print(df['Position'].unique())  # Replace 'Column_Name' with the name of the column\n"
   ]
  },
  {
   "cell_type": "code",
   "execution_count": 6,
   "metadata": {},
   "outputs": [
    {
     "name": "stdout",
     "output_type": "stream",
     "text": [
      "\n",
      ". isnull() / notnull():\n",
      "      Name   Team  Number  Position    Age  Height  Weight  College  Salary\n",
      "0    False  False   False     False  False   False   False    False   False\n",
      "1    False  False   False     False  False   False   False    False   False\n",
      "2    False  False   False     False  False   False   False    False    True\n",
      "3    False  False   False     False  False   False   False    False   False\n",
      "4    False  False   False     False  False   False   False     True   False\n",
      "..     ...    ...     ...       ...    ...     ...     ...      ...     ...\n",
      "453  False  False   False     False  False   False   False    False   False\n",
      "454  False  False   False     False  False   False   False     True   False\n",
      "455  False  False   False     False  False   False   False     True   False\n",
      "456  False  False   False     False  False   False   False    False   False\n",
      "457   True   True    True      True   True    True    True     True    True\n",
      "\n",
      "[458 rows x 9 columns]\n",
      "      Name   Team  Number  Position    Age  Height  Weight  College  Salary\n",
      "0     True   True    True      True   True    True    True     True    True\n",
      "1     True   True    True      True   True    True    True     True    True\n",
      "2     True   True    True      True   True    True    True     True   False\n",
      "3     True   True    True      True   True    True    True     True    True\n",
      "4     True   True    True      True   True    True    True    False    True\n",
      "..     ...    ...     ...       ...    ...     ...     ...      ...     ...\n",
      "453   True   True    True      True   True    True    True     True    True\n",
      "454   True   True    True      True   True    True    True    False    True\n",
      "455   True   True    True      True   True    True    True    False    True\n",
      "456   True   True    True      True   True    True    True     True    True\n",
      "457  False  False   False     False  False   False   False    False   False\n",
      "\n",
      "[458 rows x 9 columns]\n"
     ]
    }
   ],
   "source": [
    "# 12. isnull() / notnull(): Check for missing values in the DataFrame\n",
    "print(\"\\n12. isnull() / notnull():\")\n",
    "print(df.isnull())\n",
    "print(df.notnull())"
   ]
  },
  {
   "cell_type": "code",
   "execution_count": 10,
   "metadata": {},
   "outputs": [
    {
     "name": "stdout",
     "output_type": "stream",
     "text": [
      "\n",
      "13. value_counts():\n",
      "Age\n",
      "24.0    47\n",
      "25.0    45\n",
      "27.0    41\n",
      "23.0    41\n",
      "26.0    36\n",
      "28.0    31\n",
      "30.0    31\n",
      "29.0    28\n",
      "22.0    26\n",
      "31.0    22\n",
      "20.0    19\n",
      "21.0    19\n",
      "33.0    14\n",
      "32.0    13\n",
      "34.0    10\n",
      "36.0    10\n",
      "35.0     9\n",
      "37.0     4\n",
      "38.0     4\n",
      "40.0     3\n",
      "39.0     2\n",
      "19.0     2\n",
      "Name: count, dtype: int64\n"
     ]
    }
   ],
   "source": [
    "# 13. value_counts(): Count the occurrences of unique values in a column\n",
    "print(\"\\n13. value_counts():\")\n",
    "print(df['Age'].value_counts())  # Replace 'Column_Name' with the name of the column\n"
   ]
  },
  {
   "cell_type": "code",
   "execution_count": 7,
   "metadata": {},
   "outputs": [
    {
     "name": "stdout",
     "output_type": "stream",
     "text": [
      "14. idxmax() / idxmin():\n",
      "298\n",
      "122\n"
     ]
    }
   ],
   "source": [
    "# 14. idxmax() / idxmin(): Return the index labels of the maximum or minimum values in a column\n",
    "print(\"14. idxmax() / idxmin():\")\n",
    "print(df['Age'].idxmax())  # Replace 'Column_Name' with the name of the column\n",
    "print(df['Age'].idxmin())"
   ]
  },
  {
   "cell_type": "markdown",
   "metadata": {},
   "source": []
  },
  {
   "cell_type": "code",
   "execution_count": null,
   "metadata": {},
   "outputs": [],
   "source": []
  }
 ],
 "metadata": {
  "kernelspec": {
   "display_name": "Python 3",
   "language": "python",
   "name": "python3"
  },
  "language_info": {
   "codemirror_mode": {
    "name": "ipython",
    "version": 3
   },
   "file_extension": ".py",
   "mimetype": "text/x-python",
   "name": "python",
   "nbconvert_exporter": "python",
   "pygments_lexer": "ipython3",
   "version": "3.11.4"
  }
 },
 "nbformat": 4,
 "nbformat_minor": 2
}
