{
 "cells": [
  {
   "cell_type": "code",
   "execution_count": 8,
   "metadata": {},
   "outputs": [],
   "source": [
    "import pandas as pd"
   ]
  },
  {
   "cell_type": "code",
   "execution_count": 9,
   "metadata": {},
   "outputs": [],
   "source": [
    "import numpy as np"
   ]
  },
  {
   "cell_type": "code",
   "execution_count": 10,
   "metadata": {},
   "outputs": [],
   "source": [
    "# 1. CSV File\n",
    "# Generate random data\n",
    "data = {\n",
    "    'Name': ['Employee' + str(i) for i in range(1, 101)],\n",
    "    'Age': np.random.randint(20, 60, 100),\n",
    "    'Salary': np.random.randint(30000, 100000, 100),\n",
    "    'Department': np.random.choice(['IT', 'Finance', 'Marketing', 'HR'], 100),\n",
    "    'Years_of_Experience': np.random.randint(1, 20, 100),\n",
    "    'Education_Level': np.random.choice(['High School', 'Bachelor', 'Master', 'PhD'], 100),\n",
    "    'Performance_Rating': np.random.randint(1, 6, 100),\n",
    "    'Hire_Date': pd.date_range(start='1/1/2010', periods=100),\n",
    "    'Location': np.random.choice(['New York', 'Los Angeles', 'Chicago', 'Houston'], 100),\n",
    "    'Marital_Status': np.random.choice(['Single', 'Married', 'Divorced'], 100)\n",
    "}\n",
    "\n",
    "df_csv = pd.DataFrame(data)"
   ]
  },
  {
   "cell_type": "code",
   "execution_count": 11,
   "metadata": {},
   "outputs": [],
   "source": [
    "# Save to CSV file\n",
    "df_csv.to_csv('data.csv', index=False)"
   ]
  },
  {
   "cell_type": "code",
   "execution_count": 12,
   "metadata": {},
   "outputs": [],
   "source": [
    "# 2. Excel File\n",
    "df_csv.to_excel('data.xlsx', index=False)"
   ]
  },
  {
   "cell_type": "code",
   "execution_count": 13,
   "metadata": {},
   "outputs": [],
   "source": [
    "# 3. JSON File\n",
    "df_csv.to_json('data.json', orient='records')"
   ]
  },
  {
   "cell_type": "code",
   "execution_count": 14,
   "metadata": {},
   "outputs": [],
   "source": [
    "# 4. HTML File\n",
    "df_csv.to_html('data.html', index=False)"
   ]
  }
 ],
 "metadata": {
  "kernelspec": {
   "display_name": "Python 3",
   "language": "python",
   "name": "python3"
  },
  "language_info": {
   "codemirror_mode": {
    "name": "ipython",
    "version": 3
   },
   "file_extension": ".py",
   "mimetype": "text/x-python",
   "name": "python",
   "nbconvert_exporter": "python",
   "pygments_lexer": "ipython3",
   "version": "3.11.4"
  }
 },
 "nbformat": 4,
 "nbformat_minor": 2
}
