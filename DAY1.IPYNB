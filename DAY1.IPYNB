{
 "cells": [
  {
   "cell_type": "code",
   "execution_count": 1,
   "metadata": {},
   "outputs": [
    {
     "name": "stdout",
     "output_type": "stream",
     "text": [
      "Requirement already satisfied: pandas in c:\\users\\yadav\\appdata\\local\\programs\\python\\python311\\lib\\site-packages (2.0.1)Note: you may need to restart the kernel to use updated packages.\n",
      "\n",
      "Requirement already satisfied: python-dateutil>=2.8.2 in c:\\users\\yadav\\appdata\\roaming\\python\\python311\\site-packages (from pandas) (2.8.2)\n",
      "Requirement already satisfied: pytz>=2020.1 in c:\\users\\yadav\\appdata\\local\\programs\\python\\python311\\lib\\site-packages (from pandas) (2023.3)\n",
      "Requirement already satisfied: tzdata>=2022.1 in c:\\users\\yadav\\appdata\\local\\programs\\python\\python311\\lib\\site-packages (from pandas) (2023.3)\n",
      "Requirement already satisfied: numpy>=1.21.0 in c:\\users\\yadav\\appdata\\local\\programs\\python\\python311\\lib\\site-packages (from pandas) (1.24.3)\n",
      "Requirement already satisfied: six>=1.5 in c:\\users\\yadav\\appdata\\roaming\\python\\python311\\site-packages (from python-dateutil>=2.8.2->pandas) (1.16.0)\n"
     ]
    },
    {
     "name": "stderr",
     "output_type": "stream",
     "text": [
      "\n",
      "[notice] A new release of pip is available: 23.3.1 -> 24.0\n",
      "[notice] To update, run: python.exe -m pip install --upgrade pip\n"
     ]
    }
   ],
   "source": [
    "pip install pandas"
   ]
  },
  {
   "cell_type": "markdown",
   "metadata": {},
   "source": [
    "## Series in Pandas\n",
    "\n",
    "A Series is a one-dimensional labeled array capable of holding any data type, including integers, floats, strings, and Python objects. It is similar to a one-dimensional array or a column in a spreadsheet.\n",
    "\n",
    "### Characteristics of Series:\n",
    "\n",
    "- **Labeled Data:** Each element in a Series is associated with an index, which provides labels for the data. The index can be explicitly defined or automatically generated.\n",
    "  \n",
    "- **Homogeneous Data Type:** All elements in a Series must have the same data type, unlike Python lists which can contain heterogeneous data types.\n",
    "\n",
    "- **Size and Shape:** A Series has a fixed size and shape once created. Its length is immutable, meaning you cannot change the number of elements in a Series after it's created.\n",
    "\n",
    "- **Flexible Indexing:** Series supports both integer-based indexing and label-based indexing. This allows for versatile data access and manipulation.\n"
   ]
  },
  {
   "cell_type": "markdown",
   "metadata": {},
   "source": [
    "## DataFrame\n",
    "\n",
    "A DataFrame is a two-dimensional labeled data structure with columns of potentially different data types. It is similar to a table in a relational database or a spreadsheet with rows and columns.\n",
    "\n",
    "### Features\n",
    "\n",
    "- **Columns:** Each column in a DataFrame represents a variable, and each variable can have a different data type.\n",
    "- **Index:** The DataFrame has an index, which labels each row. By default, the index is a sequence of integers starting from 0, but it can be customized.\n",
    "- **Alignment:** Data alignment is automatic in pandas. When performing operations on DataFrames, pandas aligns the data based on the index and column labels.\n",
    "- **Handling Missing Data:** DataFrames provide methods for handling missing data, such as `dropna()` to remove rows or columns with missing values and `fillna()` to fill missing values with specified values.\n",
    "- **Data Operations:** DataFrames support a variety of operations, including arithmetic operations, statistical operations, and string operations.\n",
    "- **Merging and Joining:** DataFrames can be merged and joined together based on common columns or indices using methods like `merge()` and `join()`.\n",
    "- **Grouping and Aggregation:** DataFrames support grouping data using `groupby()` and performing aggregation operations like sum, mean, count, etc., on grouped data.\n",
    "- **Reshaping:** DataFrames can be reshaped using methods like `pivot()` and `melt()` to change the layout of the data.\n",
    "- **I/O Operations:** DataFrames can be read from and written to various file formats, including CSV, Excel, JSON, SQL databases, and more.\n"
   ]
  },
  {
   "cell_type": "code",
   "execution_count": null,
   "metadata": {},
   "outputs": [],
   "source": []
  }
 ],
 "metadata": {
  "kernelspec": {
   "display_name": "Python 3",
   "language": "python",
   "name": "python3"
  },
  "language_info": {
   "codemirror_mode": {
    "name": "ipython",
    "version": 3
   },
   "file_extension": ".py",
   "mimetype": "text/x-python",
   "name": "python",
   "nbconvert_exporter": "python",
   "pygments_lexer": "ipython3",
   "version": "3.11.4"
  }
 },
 "nbformat": 4,
 "nbformat_minor": 2
}
