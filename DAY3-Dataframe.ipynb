{
 "cells": [
  {
   "cell_type": "markdown",
   "metadata": {},
   "source": [
    "# DataFrame "
   ]
  },
  {
   "cell_type": "markdown",
   "metadata": {},
   "source": [
    "Several ways \n",
    "\n",
    "* From a Dictionary \n",
    "* From a list of Lists \n",
    "* From a Numpy array \n",
    "* From a Series \n",
    "* From a list of Dictionaries\n",
    "* using dictionary of series "
   ]
  },
  {
   "cell_type": "code",
   "execution_count": 1,
   "metadata": {},
   "outputs": [],
   "source": [
    "import pandas as pd"
   ]
  },
  {
   "cell_type": "markdown",
   "metadata": {},
   "source": [
    "## 1. From a Dictionary  "
   ]
  },
  {
   "cell_type": "code",
   "execution_count": 3,
   "metadata": {},
   "outputs": [
    {
     "name": "stdout",
     "output_type": "stream",
     "text": [
      "   Col1  Col2  Col3\n",
      "0     1   Num    25\n",
      "1     2  Num2    63\n",
      "2     3  Num3    85\n",
      "3     4  Num4    96\n",
      "4     5  Num5    56\n"
     ]
    }
   ],
   "source": [
    "data={\n",
    "    \"Col1\":[1,2,3,4,5],\n",
    "    \"Col2\":[\"Num\",\"Num2\",\"Num3\",\"Num4\",\"Num5\"],\n",
    "    \"Col3\":[25,63,85,96,56]\n",
    "}\n",
    "\n",
    "Dict_df=pd.DataFrame(data=data)\n",
    "print(Dict_df)"
   ]
  },
  {
   "cell_type": "markdown",
   "metadata": {},
   "source": [
    "## 2. From a list of Lists "
   ]
  },
  {
   "cell_type": "code",
   "execution_count": 4,
   "metadata": {},
   "outputs": [
    {
     "name": "stdout",
     "output_type": "stream",
     "text": [
      "   column1 Column2  Column3\n",
      "0        1       a       56\n",
      "1        2       b       65\n",
      "2        3       v       85\n"
     ]
    }
   ],
   "source": [
    "data_list=[\n",
    "    [1,'a',56],\n",
    "    [2,'b',65],\n",
    "    [3,'v',85]\n",
    "]\n",
    "\n",
    "list_df=pd.DataFrame(data=data_list,columns=['column1','Column2',\"Column3\"])\n",
    "print(list_df)"
   ]
  },
  {
   "cell_type": "markdown",
   "metadata": {},
   "source": [
    "## 3.  From a Numpy array "
   ]
  },
  {
   "cell_type": "code",
   "execution_count": 5,
   "metadata": {},
   "outputs": [],
   "source": [
    "import numpy as np "
   ]
  },
  {
   "cell_type": "code",
   "execution_count": 6,
   "metadata": {},
   "outputs": [
    {
     "name": "stdout",
     "output_type": "stream",
     "text": [
      "   Column1  Column2  Column3  Column4\n",
      "0        1        2        3        4\n",
      "1        5        6        7        8\n"
     ]
    }
   ],
   "source": [
    "num_data=np.array([\n",
    "    [1,2,3,4],\n",
    "    [5,6,7,8]\n",
    "\n",
    "])\n",
    "\n",
    "num_df=pd.DataFrame(data=num_data,columns=[\"Column1\",\"Column2\",\"Column3\",\"Column4\"])\n",
    "print(num_df)"
   ]
  },
  {
   "cell_type": "markdown",
   "metadata": {},
   "source": [
    "## 4. From a Series "
   ]
  },
  {
   "cell_type": "code",
   "execution_count": 7,
   "metadata": {},
   "outputs": [
    {
     "name": "stdout",
     "output_type": "stream",
     "text": [
      "   Column  Column2\n",
      "0       1     math\n",
      "1       2  Science\n",
      "2       3    Socio\n",
      "3       4  English\n",
      "4       5   Python\n"
     ]
    }
   ],
   "source": [
    "s1=pd.Series([1,2,3,4,5])\n",
    "s2=pd.Series([\"math\",\"Science\",\"Socio\",\"English\",\"Python\"])\n",
    "ser_df=pd.DataFrame({\"Column\":s1,\"Column2\":s2})\n",
    "print(ser_df)"
   ]
  },
  {
   "cell_type": "markdown",
   "metadata": {},
   "source": [
    "5. From a list of Dictionaries"
   ]
  },
  {
   "cell_type": "code",
   "execution_count": 8,
   "metadata": {},
   "outputs": [
    {
     "name": "stdout",
     "output_type": "stream",
     "text": [
      "   Column1  Column2\n",
      "0       23       35\n",
      "1       85       85\n",
      "2       65       32\n"
     ]
    }
   ],
   "source": [
    "listd_data=[\n",
    "    {\"Column1\":23, \"Column2\":35},\n",
    "    {\"Column1\":85, \"Column2\":85},\n",
    "    {\"Column1\":65, \"Column2\":32}\n",
    "]\n",
    "dic_list_df=pd.DataFrame(data=listd_data)\n",
    "print(dic_list_df)"
   ]
  },
  {
   "cell_type": "markdown",
   "metadata": {},
   "source": [
    "## 6. * using dictionary of series "
   ]
  },
  {
   "cell_type": "code",
   "execution_count": 9,
   "metadata": {},
   "outputs": [
    {
     "name": "stdout",
     "output_type": "stream",
     "text": [
      "   Column  Column2\n",
      "0       1     math\n",
      "1       2  Science\n",
      "2       3    Socio\n",
      "3       4  English\n",
      "4       5   Python\n"
     ]
    }
   ],
   "source": [
    "s1=pd.Series([1,2,3,4,5])\n",
    "s2=pd.Series([\"math\",\"Science\",\"Socio\",\"English\",\"Python\"])\n",
    "ser_df=pd.DataFrame({\"Column\":s1,\"Column2\":s2})\n",
    "print(ser_df)"
   ]
  },
  {
   "cell_type": "markdown",
   "metadata": {},
   "source": [
    "## Practice Question"
   ]
  },
  {
   "cell_type": "markdown",
   "metadata": {},
   "source": [
    "1. Create a DataFrame using a dictionary or list of dictionaries containing sales data, including columns like date, product name, quantity sold, and revenue."
   ]
  },
  {
   "cell_type": "markdown",
   "metadata": {},
   "source": [
    "2. Create a DataFrame using a dictionary or list of dictionaries containing student data, including columns like student ID, name, subject, and score."
   ]
  },
  {
   "cell_type": "markdown",
   "metadata": {},
   "source": [
    "3. Create a DataFrame using a dictionary or list of dictionaries containing stock market data, including columns like date, stock symbol, opening price, closing price, and volume."
   ]
  },
  {
   "cell_type": "markdown",
   "metadata": {},
   "source": [
    "4. Create a DataFrame using a dictionary or list of dictionaries containing customer feedback data, including columns like customer ID, date, feedback text, and sentiment score."
   ]
  },
  {
   "cell_type": "markdown",
   "metadata": {},
   "source": [
    "5. Create a DataFrame using a dictionary or list of dictionaries containing sensor data, including columns like timestamp, sensor ID, measurement value, and location."
   ]
  }
 ],
 "metadata": {
  "kernelspec": {
   "display_name": "Python 3",
   "language": "python",
   "name": "python3"
  },
  "language_info": {
   "codemirror_mode": {
    "name": "ipython",
    "version": 3
   },
   "file_extension": ".py",
   "mimetype": "text/x-python",
   "name": "python",
   "nbconvert_exporter": "python",
   "pygments_lexer": "ipython3",
   "version": "3.11.4"
  }
 },
 "nbformat": 4,
 "nbformat_minor": 2
}
